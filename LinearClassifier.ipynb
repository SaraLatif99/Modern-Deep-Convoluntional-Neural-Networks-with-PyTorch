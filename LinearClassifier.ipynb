{
  "nbformat": 4,
  "nbformat_minor": 0,
  "metadata": {
    "colab": {
      "name": "LinearClassifier.ipynb",
      "provenance": [],
      "collapsed_sections": [],
      "authorship_tag": "ABX9TyNoCAk3WMfOt53XG8eDlf17",
      "include_colab_link": true
    },
    "kernelspec": {
      "name": "python3",
      "display_name": "Python 3"
    },
    "accelerator": "GPU"
  },
  "cells": [
    {
      "cell_type": "markdown",
      "metadata": {
        "id": "view-in-github",
        "colab_type": "text"
      },
      "source": [
        "<a href=\"https://colab.research.google.com/github/SaraLatif99/Modern-Deep-Convoluntional-Neural-Networks-with-PyTorch/blob/master/LinearClassifier.ipynb\" target=\"_parent\"><img src=\"https://colab.research.google.com/assets/colab-badge.svg\" alt=\"Open In Colab\"/></a>"
      ]
    },
    {
      "cell_type": "code",
      "metadata": {
        "id": "-ObX7sSb0XXj",
        "colab_type": "code",
        "colab": {}
      },
      "source": [
        "#Linear Classifier for Dataset \" CIFAR10 \" \n",
        "import torch\n",
        "import torch.nn as nn\n",
        "import torch.optim as optim\n",
        "import torch.nn.functional as F\n",
        "import torch.backends.cudnn as cudnn\n",
        "\n",
        "import torchvision\n",
        "import torchvision.transforms as transforms\n",
        "\n",
        "import matplotlib.pyplot as plt\n",
        "import numpy as np\n"
      ],
      "execution_count": 0,
      "outputs": []
    },
    {
      "cell_type": "code",
      "metadata": {
        "id": "SSlDR8rqbFoM",
        "colab_type": "code",
        "colab": {
          "base_uri": "https://localhost:8080/",
          "height": 34
        },
        "outputId": "0131318c-7a59-4b2e-f7fb-1fee14c93b2a"
      },
      "source": [
        "#Defining Transformation that will apply to all our images\n",
        "\n",
        "transform = transforms.Compose([\n",
        "                                \n",
        "                                transforms.ToTensor(), #First transformation from NumpyArray to Tensors\n",
        "                                transforms.Normalize((0.5,0.5,0.5),(0.5,0.5,0.5)) # second transformation is normalization\n",
        "])\n",
        "\n",
        "trainset = torchvision.datasets.CIFAR10(root='../data',train=True, download=True,transform=transform) # loaading dataset and applying transformation\n",
        "testset = torchvision.datasets.CIFAR10(root='../data',train=False, transform=transform)\n",
        "\n",
        "trainloader =torch.utils.data.DataLoader(trainset, batch_size=4, shuffle=True, num_workers = 2)\n",
        "testloader = torch.utils.data.DataLoader(testset, batch_size=4, shuffle=False, num_workers = 2)\n",
        "\n",
        "classes = ('plane', 'car', 'bird', 'cat',\n",
        "'deer', 'dog','frog', 'horse', 'ship', 'truck')"
      ],
      "execution_count": 28,
      "outputs": [
        {
          "output_type": "stream",
          "text": [
            "Files already downloaded and verified\n"
          ],
          "name": "stdout"
        }
      ]
    },
    {
      "cell_type": "code",
      "metadata": {
        "id": "bfTg6kCjgYkQ",
        "colab_type": "code",
        "colab": {
          "base_uri": "https://localhost:8080/",
          "height": 212
        },
        "outputId": "29a922a5-c477-4fe5-a2db-564fd0ea70b1"
      },
      "source": [
        "def imshow(img):\n",
        "  plt.figure(figsize = (10,10))\n",
        "  img = img/ 2 + 0.5 #unnormalize\n",
        "  npimg = img.numpy()\n",
        "  plt.imshow(np.transpose(npimg, (1,2,0) ))\n",
        "  plt.show()\n",
        "\n",
        "#get some random images\n",
        "dataiter =  iter(trainloader)\n",
        "images, labels = dataiter.next()\n",
        "\n",
        "#show images\n",
        "imshow(torchvision.utils.make_grid(images))\n",
        "\n",
        "#print labels\n",
        "print(' '.join('%5s' %classes[labels[j]] for j in range(4)))\n"
      ],
      "execution_count": 29,
      "outputs": [
        {
          "output_type": "display_data",
          "data": {
            "image/png": "[encoded data removed]",
            "text/plain": [
              "<Figure size 720x720 with 1 Axes>"
            ]
          },
          "metadata": {
            "tags": [],
            "needs_background": "light"
          }
        },
        {
          "output_type": "stream",
          "text": [
            "horse   cat  frog   cat\n"
          ],
          "name": "stdout"
        }
      ]
    },
    {
      "cell_type": "code",
      "metadata": {
        "id": "UgZTLCDXjJJ8",
        "colab_type": "code",
        "colab": {}
      },
      "source": [
        " #Linear Classifier\n",
        " class LinearClassifier(nn.Module):\n",
        "   def __init__(self,n_input_neurons,n_output_neurons):\n",
        "     super().__init__()\n",
        "     self.linear = nn.Linear(n_input_neurons,n_output_neurons)\n",
        "\n",
        "    #we have to define forward pass only, no backward pass, because pyTorch will automatically do it for us\n",
        "   def forward(self,x):\n",
        "     # x has shape [batch_size, 3, height, width]\n",
        "      batch_size = x.shape[0]\n",
        "      x = x.view(batch_size, -1)  # it is equivalent of reshape in numpy, parameters mean that first dimension is batch_size and second is 3,height,width\n",
        "      return self.linear(x)\n",
        "     "
      ],
      "execution_count": 0,
      "outputs": []
    },
    {
      "cell_type": "code",
      "metadata": {
        "id": "0FsmgwV_qITs",
        "colab_type": "code",
        "colab": {}
      },
      "source": [
        "height, width = images.shape[2:]"
      ],
      "execution_count": 0,
      "outputs": []
    },
    {
      "cell_type": "code",
      "metadata": {
        "id": "PyfrmoXfxHm4",
        "colab_type": "code",
        "colab": {
          "base_uri": "https://localhost:8080/",
          "height": 34
        },
        "outputId": "a69ca884-e1b0-40c4-d6f8-ae2884d7597e"
      },
      "source": [
        "height, width"
      ],
      "execution_count": 32,
      "outputs": [
        {
          "output_type": "execute_result",
          "data": {
            "text/plain": [
              "(32, 32)"
            ]
          },
          "metadata": {
            "tags": []
          },
          "execution_count": 32
        }
      ]
    },
    {
      "cell_type": "code",
      "metadata": {
        "id": "crhUaDPfpg_8",
        "colab_type": "code",
        "colab": {}
      },
      "source": [
        "net = LinearClassifier(n_input_neurons=3*height*width , n_output_neurons=10).cuda()"
      ],
      "execution_count": 0,
      "outputs": []
    },
    {
      "cell_type": "code",
      "metadata": {
        "id": "lq27KTcks8js",
        "colab_type": "code",
        "colab": {}
      },
      "source": [
        "criterion = nn.CrossEntropyLoss()\n",
        "optimizer = optim.Adam(net.parameters(),lr = 0.001)"
      ],
      "execution_count": 0,
      "outputs": []
    },
    {
      "cell_type": "code",
      "metadata": {
        "id": "5ELQL-zhtQuK",
        "colab_type": "code",
        "colab": {
          "base_uri": "https://localhost:8080/",
          "height": 544
        },
        "outputId": "043f8223-61de-471e-ec99-90a0bebd9ac5"
      },
      "source": [
        "for epoch in range(5): #loop over the dataset multiple times\n",
        "\n",
        "  running_loss = 0.0\n",
        "  for i,data in enumerate(trainloader,0):\n",
        "    images, labels =data\n",
        "    images, labels = images.cuda(), labels.cuda()\n",
        "\n",
        "    #gradients to zero\n",
        "    optimizer.zero_grad()\n",
        "\n",
        "    #forward pass + loss\n",
        "\n",
        "    output = net(images)\n",
        "    loss = criterion(output, labels)\n",
        "\n",
        "\n",
        "\n",
        "    loss.backward()\n",
        "    optimizer.step()\n",
        "\n",
        "    #print statistics\n",
        "    running_loss += loss.item()\n",
        "    if i % 2000 == 1999:\n",
        "      print('[%d, %5d] loss: %.3f' %\n",
        "            (epoch + 1 , i + 1, running_loss / 2000))\n",
        "      running_loss = 0.0\n",
        "\n",
        "print('Finished Training')"
      ],
      "execution_count": 35,
      "outputs": [
        {
          "output_type": "stream",
          "text": [
            "[1,  2000] loss: 2.345\n",
            "[1,  4000] loss: 2.323\n",
            "[1,  6000] loss: 2.332\n",
            "[1,  8000] loss: 2.323\n",
            "[1, 10000] loss: 2.334\n",
            "[1, 12000] loss: 2.335\n",
            "[2,  2000] loss: 2.239\n",
            "[2,  4000] loss: 2.297\n",
            "[2,  6000] loss: 2.295\n",
            "[2,  8000] loss: 2.277\n",
            "[2, 10000] loss: 2.281\n",
            "[2, 12000] loss: 2.300\n",
            "[3,  2000] loss: 2.200\n",
            "[3,  4000] loss: 2.275\n",
            "[3,  6000] loss: 2.276\n",
            "[3,  8000] loss: 2.268\n",
            "[3, 10000] loss: 2.299\n",
            "[3, 12000] loss: 2.281\n",
            "[4,  2000] loss: 2.219\n",
            "[4,  4000] loss: 2.222\n",
            "[4,  6000] loss: 2.250\n",
            "[4,  8000] loss: 2.273\n",
            "[4, 10000] loss: 2.290\n",
            "[4, 12000] loss: 2.290\n",
            "[5,  2000] loss: 2.203\n",
            "[5,  4000] loss: 2.232\n",
            "[5,  6000] loss: 2.257\n",
            "[5,  8000] loss: 2.216\n",
            "[5, 10000] loss: 2.276\n",
            "[5, 12000] loss: 2.251\n",
            "Finished Training\n"
          ],
          "name": "stdout"
        }
      ]
    },
    {
      "cell_type": "code",
      "metadata": {
        "id": "IX3w9pZ4zNIt",
        "colab_type": "code",
        "colab": {}
      },
      "source": [
        "def get_quality(net):\n",
        "  correct = 0\n",
        "  total = 0\n",
        "  with torch.no_grad():\n",
        "    for data in testloader:\n",
        "      images,labels = data\n",
        "      images,labels = images.cuda(), labels.cuda()\n",
        "      output = net(images)\n",
        "      _, predicted = torch.max(output.data, 1)\n",
        "      total += labels.size(0)\n",
        "      correct += (predicted == labels).sum().item()\n",
        "\n",
        "  print('Accuracy of the network on test images : %d %%' %(100 * correct/total))"
      ],
      "execution_count": 0,
      "outputs": []
    },
    {
      "cell_type": "code",
      "metadata": {
        "id": "6Y9B7_NC0kSN",
        "colab_type": "code",
        "colab": {
          "base_uri": "https://localhost:8080/",
          "height": 34
        },
        "outputId": "70bb920d-fc89-45ac-ad1e-c26741ab6756"
      },
      "source": [
        "get_quality(net)"
      ],
      "execution_count": 37,
      "outputs": [
        {
          "output_type": "stream",
          "text": [
            "Accuracy of the network on test images : 33 %\n"
          ],
          "name": "stdout"
        }
      ]
    }
  ]
}