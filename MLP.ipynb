{
  "nbformat": 4,
  "nbformat_minor": 0,
  "metadata": {
    "colab": {
      "name": "MLP.ipynb",
      "provenance": [],
      "authorship_tag": "ABX9TyOdG4oWCq9bI2ZIYmMhwaU7",
      "include_colab_link": true
    },
    "kernelspec": {
      "name": "python3",
      "display_name": "Python 3"
    },
    "accelerator": "GPU"
  },
  "cells": [
    {
      "cell_type": "markdown",
      "metadata": {
        "id": "view-in-github",
        "colab_type": "text"
      },
      "source": [
        "<a href=\"https://colab.research.google.com/github/SaraLatif99/Modern-Deep-Convoluntional-Neural-Networks-with-PyTorch/blob/master/MLP.ipynb\" target=\"_parent\"><img src=\"https://colab.research.google.com/assets/colab-badge.svg\" alt=\"Open In Colab\"/></a>"
      ]
    },
    {
      "cell_type": "markdown",
      "metadata": {
        "id": "eBYAvDLi_2pH",
        "colab_type": "text"
      },
      "source": [
        "# Modern Deep Convolutional Neural Networks with PyTorch "
      ]
    },
    {
      "cell_type": "markdown",
      "metadata": {
        "id": "Mga82hVzAgZr",
        "colab_type": "text"
      },
      "source": [
        "Multi-Layer Perceptron Classifier"
      ]
    },
    {
      "cell_type": "code",
      "metadata": {
        "id": "yDjJKR7u8g2C",
        "colab_type": "code",
        "colab": {}
      },
      "source": [
        "import torch\n",
        "import torch.nn as nn\n",
        "import torch.optim as optim\n",
        "import torch.nn.functional as F\n",
        "import torch.backends.cudnn as cudnn\n",
        "\n",
        "import torchvision\n",
        "import torchvision.transforms as transforms\n",
        "\n",
        "import matplotlib.pyplot as plt\n",
        "import numpy as np"
      ],
      "execution_count": 0,
      "outputs": []
    },
    {
      "cell_type": "code",
      "metadata": {
        "id": "PQpQYrjpAybM",
        "colab_type": "code",
        "colab": {
          "base_uri": "https://localhost:8080/",
          "height": 34
        },
        "outputId": "6c8ac992-c155-476a-c90c-4f68a1372414"
      },
      "source": [
        "#Defining Transformation that will apply to all our images\n",
        "\n",
        "transform = transforms.Compose([\n",
        "                                \n",
        "                                transforms.ToTensor(), #First transformation from NumpyArray to Tensors\n",
        "                                transforms.Normalize((0.5,0.5,0.5),(0.5,0.5,0.5)) # second transformation is normalization\n",
        "])\n",
        "\n",
        "trainset = torchvision.datasets.CIFAR10(root='../data',train=True, download=True,transform=transform) # loaading dataset and applying transformation\n",
        "testset = torchvision.datasets.CIFAR10(root='../data',train=False, transform=transform)\n",
        "\n",
        "trainloader =torch.utils.data.DataLoader(trainset, batch_size=4, shuffle=True, num_workers = 2)\n",
        "testloader = torch.utils.data.DataLoader(testset, batch_size=4, shuffle=False, num_workers = 2)\n",
        "\n",
        "classes = ('plane', 'car', 'bird', 'cat',\n",
        "'deer', 'dog','frog', 'horse', 'ship', 'truck')"
      ],
      "execution_count": 17,
      "outputs": [
        {
          "output_type": "stream",
          "text": [
            "Files already downloaded and verified\n"
          ],
          "name": "stdout"
        }
      ]
    },
    {
      "cell_type": "code",
      "metadata": {
        "id": "dXaK_nhbA4lT",
        "colab_type": "code",
        "colab": {
          "base_uri": "https://localhost:8080/",
          "height": 212
        },
        "outputId": "5698445f-bdf6-4c4a-8fe3-af9c50547bf9"
      },
      "source": [
        "def imshow(img):\n",
        "  plt.figure(figsize = (10,10))\n",
        "  img = img/ 2 + 0.5 #unnormalize\n",
        "  npimg = img.numpy()\n",
        "  plt.imshow(np.transpose(npimg, (1,2,0) ))\n",
        "  plt.show()\n",
        "\n",
        "#get some random images\n",
        "dataiter =  iter(trainloader)\n",
        "images, labels = dataiter.next()\n",
        "\n",
        "#show images\n",
        "imshow(torchvision.utils.make_grid(images))\n",
        "\n",
        "#print labels\n",
        "print(' '.join('%5s' %classes[labels[j]] for j in range(4)))\n"
      ],
      "execution_count": 18,
      "outputs": [
        {
          "output_type": "display_data",
          "data": {
            "image/png": "[encoded data removed]",
            "text/plain": [
              "<Figure size 720x720 with 1 Axes>"
            ]
          },
          "metadata": {
            "tags": [],
            "needs_background": "light"
          }
        },
        {
          "output_type": "stream",
          "text": [
            "  dog truck truck plane\n"
          ],
          "name": "stdout"
        }
      ]
    },
    {
      "cell_type": "code",
      "metadata": {
        "id": "VMSDxgpGBAky",
        "colab_type": "code",
        "colab": {}
      },
      "source": [
        " #ML Classifier, In mult-layer perceptron we have several linear layers\n",
        " class MLP(nn.Module):\n",
        "   def __init__(self,n_input_neurons,n_output_neurons):\n",
        "     super().__init__()\n",
        "\n",
        "     self.main = nn.Sequential(\n",
        "         \n",
        "         nn.Linear(n_input_neurons,256),\n",
        "         nn.LeakyReLU(negative_slope = 0.2, inplace = True),\n",
        "         nn.Linear(256,128),\n",
        "         nn.LeakyReLU(negative_slope= 0.2, inplace = True),\n",
        "         nn.Linear(128,n_output_neurons)\n",
        "     )\n",
        "     self.linear = nn.Linear(n_input_neurons,n_output_neurons)\n",
        "\n",
        "    #we have to define forward pass only, no backward pass, because pyTorch will automatically do it for us\n",
        "   def forward(self,x):\n",
        "     # x has shape [batch_size, 3, height, width]\n",
        "      batch_size = x.shape[0]\n",
        "      x = x.view(batch_size, -1)  # it is equivalent of reshape in numpy, parameters mean that first dimension is batch_size and second is 3,height,width\n",
        "      return self.linear(x)"
      ],
      "execution_count": 0,
      "outputs": []
    },
    {
      "cell_type": "code",
      "metadata": {
        "id": "WK4qYc8rEcOo",
        "colab_type": "code",
        "colab": {}
      },
      "source": [
        "height, width = images.shape[2:]"
      ],
      "execution_count": 0,
      "outputs": []
    },
    {
      "cell_type": "code",
      "metadata": {
        "id": "pDJqRb8TEkSf",
        "colab_type": "code",
        "colab": {
          "base_uri": "https://localhost:8080/",
          "height": 34
        },
        "outputId": "bc612aed-524f-41a6-9d1f-13f24ab2f1a1"
      },
      "source": [
        "height, width"
      ],
      "execution_count": 21,
      "outputs": [
        {
          "output_type": "execute_result",
          "data": {
            "text/plain": [
              "(32, 32)"
            ]
          },
          "metadata": {
            "tags": []
          },
          "execution_count": 21
        }
      ]
    },
    {
      "cell_type": "code",
      "metadata": {
        "id": "WhTSTYeXEm0H",
        "colab_type": "code",
        "colab": {}
      },
      "source": [
        "net = MLP(n_input_neurons=3*height*width , n_output_neurons=10).cuda()"
      ],
      "execution_count": 0,
      "outputs": []
    },
    {
      "cell_type": "code",
      "metadata": {
        "id": "OXxQENTdEqNO",
        "colab_type": "code",
        "colab": {}
      },
      "source": [
        "criterion = nn.CrossEntropyLoss()\n",
        "optimizer = optim.Adam(net.parameters(),lr = 0.001)"
      ],
      "execution_count": 0,
      "outputs": []
    },
    {
      "cell_type": "code",
      "metadata": {
        "id": "PhZflNqcFPIX",
        "colab_type": "code",
        "colab": {
          "base_uri": "https://localhost:8080/",
          "height": 391
        },
        "outputId": "c21a593a-da59-4358-97e3-7f875681da43"
      },
      "source": [
        "for epoch in range(5): #loop over the dataset multiple times\n",
        "\n",
        "  running_loss = 0.0\n",
        "  for i,data in enumerate(trainloader,0):\n",
        "    images, labels =data\n",
        "    images, labels = images.cuda(), labels.cuda()\n",
        "\n",
        "    #gradients to zero\n",
        "    optimizer.zero_grad()\n",
        "\n",
        "    #forward pass + loss\n",
        "\n",
        "    output = net(images)\n",
        "    loss = criterion(output, labels)\n",
        "\n",
        "\n",
        "\n",
        "    loss.backward()\n",
        "    optimizer.step()\n",
        "\n",
        "    #print statistics\n",
        "    running_loss += loss.item()\n",
        "    if i % 2000 == 1999:\n",
        "      print('[%d, %5d] loss: %.3f' %\n",
        "            (epoch + 1 , i + 1, running_loss / 2000))\n",
        "      running_loss = 0.0\n",
        "\n",
        "print('Finished Training')"
      ],
      "execution_count": 0,
      "outputs": [
        {
          "output_type": "stream",
          "text": [
            "[1,  2000] loss: 2.355\n",
            "[1,  4000] loss: 2.324\n",
            "[1,  6000] loss: 2.334\n",
            "[1,  8000] loss: 2.323\n",
            "[1, 10000] loss: 2.328\n",
            "[1, 12000] loss: 2.317\n",
            "[2,  2000] loss: 2.253\n",
            "[2,  4000] loss: 2.281\n",
            "[2,  6000] loss: 2.267\n",
            "[2,  8000] loss: 2.263\n",
            "[2, 10000] loss: 2.320\n",
            "[2, 12000] loss: 2.276\n",
            "[3,  2000] loss: 2.199\n",
            "[3,  4000] loss: 2.255\n",
            "[3,  6000] loss: 2.293\n",
            "[3,  8000] loss: 2.262\n",
            "[3, 10000] loss: 2.277\n",
            "[3, 12000] loss: 2.282\n",
            "[4,  2000] loss: 2.188\n",
            "[4,  4000] loss: 2.269\n",
            "[4,  6000] loss: 2.270\n",
            "[4,  8000] loss: 2.241\n"
          ],
          "name": "stdout"
        }
      ]
    },
    {
      "cell_type": "code",
      "metadata": {
        "id": "dp8wt6H6FRUu",
        "colab_type": "code",
        "colab": {}
      },
      "source": [
        "def get_quality(net):\n",
        "  correct = 0\n",
        "  total = 0\n",
        "  with torch.no_grad():\n",
        "    for data in testloader:\n",
        "      images,labels = data\n",
        "      images,labels = images.cuda(), labels.cuda()\n",
        "      output = net(images)\n",
        "      _, predicted = torch.max(output.data, 1)\n",
        "      total += labels.size(0)\n",
        "      correct += (predicted == labels).sum().item()\n",
        "\n",
        "  print('Accuracy of the network on test images : %d %%' %(100 * correct/total))"
      ],
      "execution_count": 0,
      "outputs": []
    },
    {
      "cell_type": "code",
      "metadata": {
        "id": "kLjFm6bzFVSA",
        "colab_type": "code",
        "colab": {}
      },
      "source": [
        "get_quality(net)"
      ],
      "execution_count": 0,
      "outputs": []
    },
    {
      "cell_type": "code",
      "metadata": {
        "id": "AdH7vTs6GPW2",
        "colab_type": "code",
        "colab": {}
      },
      "source": [
        ""
      ],
      "execution_count": 0,
      "outputs": []
    }
  ]
}